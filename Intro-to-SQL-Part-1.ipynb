{
 "cells": [
  {
   "cell_type": "markdown",
   "metadata": {},
   "source": [
    "# Introduction to SQL, part 1"
   ]
  },
  {
   "cell_type": "markdown",
   "metadata": {},
   "source": [
    "First, let's create a SQLite database with two tables (for students and classes) and then view those records.\n",
    "\n",
    "* open a terminal\n",
    "* execute `sqlite3 first.db` to run SQLite and create our database"
   ]
  },
  {
   "cell_type": "markdown",
   "metadata": {},
   "source": [
    "Notice that `.help` will list usage hints.\n",
    "\n",
    "We will use two of these to make our table views nice:\n",
    "* `.header on`\n",
    "* `.mode column`"
   ]
  },
  {
   "cell_type": "markdown",
   "metadata": {},
   "source": [
    "Tables in the database can be listed with `.tables`"
   ]
  },
  {
   "cell_type": "markdown",
   "metadata": {},
   "source": [
    "## Create Students table"
   ]
  },
  {
   "cell_type": "markdown",
   "metadata": {},
   "source": [
    "Let's create the table for Students:\n",
    "\n",
    "```\n",
    "studentId,name,classId\n",
    "1,Dora,1\n",
    "2,Daniel,2\n",
    "3,Mamdooh,1\n",
    "4,Lana,2\n",
    "5,Ben,4\n",
    "```\n",
    "\n",
    "Execute:\n",
    "`CREATE TABLE Students (studentId INTEGER, name TEXT, classId INTEGER);`"
   ]
  },
  {
   "cell_type": "markdown",
   "metadata": {},
   "source": [
    "* We can check it exists with `.tables`.\n",
    "* Check it's content with `SELECT * FROM Students;`"
   ]
  },
  {
   "cell_type": "markdown",
   "metadata": {},
   "source": [
    "We need to add content:\n",
    "* `INSERT INTO Students (studentId, name, classId) VALUES (1,'Dora',1);`"
   ]
  },
  {
   "cell_type": "markdown",
   "metadata": {},
   "source": [
    "Just to see what's happened, view the content again.\n",
    "\n",
    "Then try quitting with `.quit` and execute `ls` to see the files in your directory."
   ]
  },
  {
   "cell_type": "markdown",
   "metadata": {},
   "source": [
    "Entering lots of rows can get tedious.  Fortunately there are other ways to insert data into tables.\n",
    "* open up the file `insert-students.sql` to see what's inside\n",
    "* execute the commands in the SQL script file with `sqlite3 first.db < insert-students.sql`"
   ]
  },
  {
   "cell_type": "markdown",
   "metadata": {},
   "source": [
    "Start up SQLite again and view the contents of the Students table."
   ]
  },
  {
   "cell_type": "markdown",
   "metadata": {},
   "source": [
    "## Create Classes table"
   ]
  },
  {
   "cell_type": "markdown",
   "metadata": {},
   "source": [
    "For Classes, we will try a third method for inserting data: importing data from a csv file.\n",
    "\n",
    "* create the table with `CREATE TABLE Classes (classId INTEGER, title TEXT);`\n",
    "* set the csv mode with `.mode csv`\n",
    "* import the file with `.import insert-classes.csv Classes`"
   ]
  },
  {
   "cell_type": "markdown",
   "metadata": {},
   "source": [
    "A few things happened that are non-ideal:\n",
    "\n",
    "* We imported the CSV header row as a record along with the rest of the data\n",
    "* SQLite doesn't strictly enforce the type, so we input 'classId' in an integer column\n",
    "* If we run the import again, there's nothing to stop us from adding duplicate data -- we should really constrain the classId at least to be unique"
   ]
  },
  {
   "cell_type": "markdown",
   "metadata": {},
   "source": [
    "Delete this table and start over by executing `DROP TABLE Classes;`"
   ]
  },
  {
   "cell_type": "markdown",
   "metadata": {},
   "source": [
    "Now re-create the table with:\n",
    "* `CREATE TABLE Classes (classId INTEGER NOT NULL PRIMARY KEY, title TEXT);`\n",
    "* `.import insert-classes.csv Classes`"
   ]
  },
  {
   "cell_type": "markdown",
   "metadata": {},
   "source": [
    "Now the import does not match.  Specifically, we already have the column names, so we don't need the header line in the csv file.\n",
    "\n",
    "* delete the top line in the csv file\n",
    "* re-import with `.import insert-classes.csv Classes`"
   ]
  },
  {
   "cell_type": "markdown",
   "metadata": {},
   "source": [
    "Ha, it looks like part of the import was actually already successful and it refuses to add the duplicates."
   ]
  },
  {
   "cell_type": "markdown",
   "metadata": {},
   "source": [
    "Check the tables and table contents now that are in the database.  We should be done."
   ]
  },
  {
   "cell_type": "markdown",
   "metadata": {},
   "source": [
    "## Survey database"
   ]
  },
  {
   "cell_type": "markdown",
   "metadata": {},
   "source": [
    "We will come back to students and classes later.  For now, we will start working with a new database.  [This database and materials are adapted from the Databases and SQL Lesson by Software Carpentry, [see here](http://swcarpentry.github.io/sql-novice-survey/).]\n",
    "\n",
    "You can interact with multiple databases in the same session.\n",
    "* check your connected databases with `.databases`\n",
    "* connect to a new database with `ATTACH DATABASE 'survey.db' AS s;`\n",
    "* check the connected databases again, as well as tables"
   ]
  },
  {
   "cell_type": "markdown",
   "metadata": {},
   "source": [
    "Files for the new tables are included in the materials as `survey.csv`, `visited.csv`, `person.csv`, and `site.csv`"
   ]
  },
  {
   "cell_type": "markdown",
   "metadata": {},
   "source": [
    "View the contents at the sqlite console."
   ]
  },
  {
   "cell_type": "markdown",
   "metadata": {},
   "source": [
    "## Querying the data"
   ]
  },
  {
   "cell_type": "markdown",
   "metadata": {},
   "source": [
    "Show all records in a table (e.g. in person table)\n",
    "\n",
    "`SELECT *\n",
    "FROM person;`"
   ]
  },
  {
   "cell_type": "markdown",
   "metadata": {},
   "source": [
    "You can specify columns:\n",
    "\n",
    "`SELECT family, personal\n",
    "FROM person;`"
   ]
  },
  {
   "cell_type": "markdown",
   "metadata": {},
   "source": [
    "Case does not matter:\n",
    "\n",
    "`seLEcT FamiLY, PERSONal\n",
    "from perSON;`"
   ]
  },
  {
   "cell_type": "markdown",
   "metadata": {},
   "source": [
    "Duplication is also permitted\n",
    "\n",
    "`SELECT personal, id, family, family, id, personal\n",
    "FROM person;`"
   ]
  },
  {
   "cell_type": "markdown",
   "metadata": {},
   "source": [
    "-- -- EXERCISE -- \n",
    "Write a query that selects only the 'name' from the 'Site' table\n",
    "-- -- --"
   ]
  },
  {
   "cell_type": "markdown",
   "metadata": {},
   "source": [
    "### Dealing with duplicates and sorting...\n",
    "\n",
    "Look at the quant column of Survey:\n",
    "\n",
    "`SELECT quant\n",
    "FROM survey;`"
   ]
  },
  {
   "cell_type": "markdown",
   "metadata": {},
   "source": [
    "Grab only the unique values\n",
    "\n",
    "`SELECT DISTINCT quant\n",
    "FROM survey;`"
   ]
  },
  {
   "cell_type": "markdown",
   "metadata": {},
   "source": [
    "Grab unique pairs\n",
    "\n",
    "`SELECT DISTINCT quant, taken\n",
    "FROM survey;`"
   ]
  },
  {
   "cell_type": "markdown",
   "metadata": {},
   "source": [
    "Unique pairs can also be ordered\n",
    "\n",
    "`SELECT DISTINCT quant, taken\n",
    "FROM survey\n",
    "ORDER BY quant;`"
   ]
  },
  {
   "cell_type": "markdown",
   "metadata": {},
   "source": [
    "And the order can be switched from ascending (ASC) to descending (DESC)\n",
    "\n",
    "`SELECT DISTINCT quant, taken\n",
    "FROM survey\n",
    "ORDER BY quant, taken DESC;`"
   ]
  },
  {
   "cell_type": "markdown",
   "metadata": {},
   "source": [
    "Text can also be ordered\n",
    "\n",
    "`SELECT *\n",
    "FROM person\n",
    "ORDER BY id;`"
   ]
  },
  {
   "cell_type": "markdown",
   "metadata": {},
   "source": [
    "`SELECT *\n",
    "FROM person\n",
    "ORDER BY id DESC;`"
   ]
  },
  {
   "cell_type": "markdown",
   "metadata": {},
   "source": [
    "There are some \"NULL\" values that are also in here....\n",
    "\n",
    "`SELECT DISTINCT quant, person\n",
    "FROM survey\n",
    "ORDER BY quant ASC;`"
   ]
  },
  {
   "cell_type": "markdown",
   "metadata": {},
   "source": [
    "`SELECT DISTINCT quant, person\n",
    "FROM survey\n",
    "ORDER BY quant ASC, person;`"
   ]
  },
  {
   "cell_type": "markdown",
   "metadata": {},
   "source": [
    "-- -- EXERCISE -- \n",
    "Write a query that selects the distinct dates shown in the 'Visited' table\n",
    "-- -- --"
   ]
  },
  {
   "cell_type": "markdown",
   "metadata": {},
   "source": [
    "-- -- EXERCISE -- \n",
    "Write a query that shows the full names of scientists in the 'Person' table, ordered by family name\n",
    "-- -- --"
   ]
  },
  {
   "cell_type": "markdown",
   "metadata": {},
   "source": [
    "### Filtering"
   ]
  },
  {
   "cell_type": "markdown",
   "metadata": {},
   "source": [
    "Select records that match a certain criteria with WHERE\n",
    "\n",
    "`SELECT *\n",
    "FROM visited\n",
    "WHERE site = 'DR-1';`"
   ]
  },
  {
   "cell_type": "markdown",
   "metadata": {},
   "source": [
    "The column name doesn't have to match the column used for selection\n",
    "\n",
    "`SELECT id\n",
    "FROM visited\n",
    "WHERE site = 'DR-1';`"
   ]
  },
  {
   "cell_type": "markdown",
   "metadata": {},
   "source": [
    "AND and OR can be used as conditionals\n",
    "\n",
    "`SELECT *\n",
    "FROM visited\n",
    "WHERE (site = 'DR-1') AND (dated < '1930-01-01');`"
   ]
  },
  {
   "cell_type": "markdown",
   "metadata": {},
   "source": [
    "`SELECT *\n",
    "FROM survey\n",
    "WHERE (person = 'lake') OR (person = 'roe');`"
   ]
  },
  {
   "cell_type": "markdown",
   "metadata": {},
   "source": [
    "Conditional relationships can also use:\n",
    "* IN to test group membership\n",
    "* BETWEEN to test a range\n",
    "* LIKE with wildcards for contained substrings ('%' means anything and '_' means single character)\n",
    "\n",
    "`SELECT *\n",
    "FROM survey\n",
    "WHERE person IN ('lake','roe');`"
   ]
  },
  {
   "cell_type": "markdown",
   "metadata": {},
   "source": [
    "Watch out for ordering of evaluation\n",
    "\n",
    "`SELECT *\n",
    "FROM survey\n",
    "WHERE quant = 'sal' AND person = 'lake' OR person = 'roe';`"
   ]
  },
  {
   "cell_type": "markdown",
   "metadata": {},
   "source": [
    "`SELECT *\n",
    "FROM survey\n",
    "WHERE quant = 'sal' AND (person = 'lake' OR person = 'roe');`"
   ]
  },
  {
   "cell_type": "markdown",
   "metadata": {},
   "source": [
    "Wildcard example\n",
    "\n",
    "`SELECT *\n",
    "FROM visited\n",
    "WHERE site LIKE 'DR%';`"
   ]
  },
  {
   "cell_type": "markdown",
   "metadata": {},
   "source": [
    "DISTINCT can be applied to paired results after the condition has been met\n",
    "\n",
    "`SELECT DISTINCT person, quant\n",
    "FROM survey\n",
    "WHERE person = 'lake' OR person = 'roe';`"
   ]
  },
  {
   "cell_type": "markdown",
   "metadata": {},
   "source": [
    "-- -- EXERCISE -- \n",
    "Say we want all sites that lie within 48 degrees of the equator, that is, latitutide from -48 to 48\n",
    "Fix this:\n",
    "\n",
    "`SELECT *\n",
    "FROM site\n",
    "WHERE (lat > -48) OR (lat < 48);`\n",
    "-- -- --"
   ]
  },
  {
   "cell_type": "markdown",
   "metadata": {},
   "source": [
    "-- -- EXERCISE -- \n",
    "Normalized salinity reading should be between 0.0 and 1.0.\n",
    "Select records from the 'Survey' table that are outside this range:\n",
    "-- -- --"
   ]
  },
  {
   "cell_type": "markdown",
   "metadata": {},
   "source": [
    "### Calculating new values\n",
    "\n",
    "Perhaps 'roe' was misreporting salinity values\n",
    "\n",
    "`SELECT *\n",
    "FROM survey\n",
    "WHERE quant = 'sal'\n",
    "ORDER BY person DESC;`"
   ]
  },
  {
   "cell_type": "markdown",
   "metadata": {},
   "source": [
    "We can divide by 100 but ....\n",
    "\n",
    "`SELECT person, quant, reading/100.0\n",
    "FROM survey\n",
    "WHERE quant = 'sal'\n",
    "ORDER BY person DESC;`"
   ]
  },
  {
   "cell_type": "markdown",
   "metadata": {},
   "source": [
    "Simple math operations can be applied to columns\n",
    "\n",
    "`SELECT 1.05*reading\n",
    "FROM survey\n",
    "WHERE quant = 'rad';`"
   ]
  },
  {
   "cell_type": "markdown",
   "metadata": {},
   "source": [
    "And it can be useful to temporarily rename the output column\n",
    "\n",
    "`SELECT 1.05*reading AS 'Radiation corrected by 5%'\n",
    "FROM survey\n",
    "WHERE quant = 'rad';`"
   ]
  },
  {
   "cell_type": "markdown",
   "metadata": {},
   "source": [
    "The reported temperature is in Fahrenheit\n",
    "\n",
    "`SELECT reading\n",
    "FROM survey\n",
    "WHERE quant = 'temp';`"
   ]
  },
  {
   "cell_type": "markdown",
   "metadata": {},
   "source": [
    "A useful calculation might be to return temperature in Celsius\n",
    "\n",
    "`SELECT round(5 * (reading - 32) / 9, 2) as 'Temp (C)'\n",
    "FROM survey\n",
    "WHERE quant = 'temp';`"
   ]
  },
  {
   "cell_type": "markdown",
   "metadata": {},
   "source": [
    "String concatenation is via \"||\"\n",
    "\n",
    "`SELECT personal || ' ' || family\n",
    "FROM person;`"
   ]
  },
  {
   "cell_type": "markdown",
   "metadata": {},
   "source": [
    "Back to salinity:\n",
    "-- We can divide by 100 for 'roe' ....\n",
    "\n",
    "`SELECT person, quant, reading/100.0\n",
    "FROM survey\n",
    "WHERE quant = 'sal' AND person = 'roe';`"
   ]
  },
  {
   "cell_type": "markdown",
   "metadata": {},
   "source": [
    "Combine this now with the notion of unions\n",
    "\n",
    "`SELECT *\n",
    "FROM person\n",
    "WHERE id = 'dyer'\n",
    "UNION\n",
    "SELECT *\n",
    "FROM person\n",
    "WHERE id = 'roe';`"
   ]
  },
  {
   "cell_type": "markdown",
   "metadata": {},
   "source": [
    "Compare UNION vs UNION ALL\n",
    "\n",
    "`SELECT *\n",
    "FROM person\n",
    "WHERE id = 'dyer'\n",
    "UNION ALL\n",
    "SELECT *\n",
    "FROM person;`"
   ]
  },
  {
   "cell_type": "markdown",
   "metadata": {},
   "source": [
    "-- -- EXERCISE -- \n",
    "Use UNION to show the salinity/100 for 'roe' and original salinity readings for everyone else\n",
    "-- -- --"
   ]
  },
  {
   "cell_type": "markdown",
   "metadata": {},
   "source": [
    "### A few details about NULL\n",
    "\n",
    "`SELECT *\n",
    "FROM visited;`"
   ]
  },
  {
   "cell_type": "markdown",
   "metadata": {},
   "source": [
    "NULL is a special value, and not equal to, for example, a missing or 'None' value\n",
    "\n",
    "`SELECT *\n",
    "FROM visited\n",
    "WHERE dated = 'None';`"
   ]
  },
  {
   "cell_type": "markdown",
   "metadata": {},
   "source": [
    "Equality must be checked with IS NULL or IS NOT NULL\n",
    "\n",
    "`SELECT *\n",
    "FROM visited\n",
    "WHERE dated IS NULL;`"
   ]
  },
  {
   "cell_type": "markdown",
   "metadata": {},
   "source": [
    "`SELECT *\n",
    "FROM visited\n",
    "WHERE dated IS NOT NULL;`"
   ]
  },
  {
   "cell_type": "markdown",
   "metadata": {},
   "source": [
    "Logical operators will not return anything for NULL values\n",
    "\n",
    "`SELECT *\n",
    "FROM survey\n",
    "WHERE quant = 'sal' AND person != 'lake';`"
   ]
  },
  {
   "cell_type": "markdown",
   "metadata": {},
   "source": [
    "NULL must be explicitly checked for\n",
    "\n",
    "`SELECT *\n",
    "FROM survey\n",
    "WHERE quant = 'sal' AND (person != 'lake' OR person IS NULL);`"
   ]
  },
  {
   "cell_type": "markdown",
   "metadata": {},
   "source": [
    "-- -- EXERCISE -- \n",
    "Write a query that sorts records in 'Visited' by date and omits unknown dates\n",
    "-- -- --"
   ]
  },
  {
   "cell_type": "markdown",
   "metadata": {},
   "source": [
    "-- -- EXERCISE --\n",
    "What do you think this query will produce?\n",
    "\n",
    "`SELECT *\n",
    "FROM visited\n",
    "WHERE dated IN ('1927-02-08', NULL);`"
   ]
  },
  {
   "cell_type": "markdown",
   "metadata": {},
   "source": [
    "-- What is a fix? --\n",
    "-- -- --"
   ]
  },
  {
   "cell_type": "markdown",
   "metadata": {},
   "source": [
    "### AGGREGATE CALCULATIONS, GROUP BY, and HAVING\n",
    "\n",
    "You can use basic arithmetic operations to get summary data for the whole table.  These include COUNT, AVG, SUM, MEAN, MIN, MAX.\n",
    "\n",
    "`SELECT COUNT(*) \n",
    "FROM survey;`\n",
    "\n",
    "`SELECT MIN(*) \n",
    "FROM survey\n",
    "WHERE quant = 'temp';`"
   ]
  },
  {
   "cell_type": "markdown",
   "metadata": {},
   "source": [
    "Summaries for groups within the table can be collected via GROUP BY\n",
    "\n",
    "`SELECT person, COUNT(*) \n",
    "FROM survey \n",
    "GROUP BY person;`"
   ]
  },
  {
   "cell_type": "markdown",
   "metadata": {},
   "source": [
    "... and if you don't want NULL values included:\n",
    "\n",
    "`SELECT person, COUNT(*) \n",
    "FROM survey \n",
    "WHERE person IS NOT NULL\n",
    "GROUP BY person;`"
   ]
  },
  {
   "cell_type": "markdown",
   "metadata": {},
   "source": [
    "Do note that WHERE must precede GROUP BY.  The WHERE clause filters individual records, and the following will give an error:\n",
    "\n",
    "`SELECT person, COUNT(*) \n",
    "FROM survey \n",
    "GROUP BY person\n",
    "WHERE person IS NOT NULL;`"
   ]
  },
  {
   "cell_type": "markdown",
   "metadata": {},
   "source": [
    "Filtering for groups can be achieved via the HAVING clause:\n",
    "\n",
    "`SELECT taken,count(*)\n",
    "FROM survey\n",
    "GROUP BY taken\n",
    "HAVING count(*) > 2;`"
   ]
  },
  {
   "cell_type": "markdown",
   "metadata": {},
   "source": [
    "Sometimes this can start to stretch the mind, so let's check out the slightly simpler query:\n",
    "\n",
    "`SELECT taken,count(*)\n",
    "FROM survey\n",
    "GROUP BY taken;`"
   ]
  },
  {
   "cell_type": "markdown",
   "metadata": {},
   "source": [
    "How about:\n",
    "\n",
    "`SELECT *,count(*)\n",
    "FROM survey\n",
    "GROUP BY taken\n",
    "HAVING count(*) > 2;`"
   ]
  },
  {
   "cell_type": "markdown",
   "metadata": {},
   "source": [
    "The result from `GROUP BY taken HAVING count(*) > 2` doesn't have multiple rows, so SQL here simply returns values for other columns that are the first entries of rows matching the appropriate 'taken' column.\n",
    "\n",
    "To get all the entries for given values of 'taken' that have a count greater than 2, we can use a sub-query, i.e., put a select statement in parentheses and use it as if it was another table.\n",
    "\n",
    "`SELECT * \n",
    "FROM survey \n",
    "WHERE taken IN (\n",
    "    SELECT taken \n",
    "    FROM survey \n",
    "    GROUP BY taken \n",
    "    HAVING count(*) > 2\n",
    ");`"
   ]
  },
  {
   "cell_type": "markdown",
   "metadata": {},
   "source": [
    "If there were lots of values for 'taken', this might be a slow query.  You can speed it up by using a JOIN to similar effect:\n",
    "\n",
    "`SELECT * \n",
    "FROM survey \n",
    "INNER JOIN\n",
    "    (SELECT taken \n",
    "    FROM survey \n",
    "    GROUP BY taken \n",
    "    HAVING count(*) > 2) \n",
    "AS t \n",
    "USING (taken);`"
   ]
  },
  {
   "cell_type": "markdown",
   "metadata": {},
   "source": [
    "So.... what are JOINs???"
   ]
  }
 ],
 "metadata": {
  "kernelspec": {
   "display_name": "Python 3",
   "language": "python",
   "name": "python3"
  },
  "language_info": {
   "codemirror_mode": {
    "name": "ipython",
    "version": 3
   },
   "file_extension": ".py",
   "mimetype": "text/x-python",
   "name": "python",
   "nbconvert_exporter": "python",
   "pygments_lexer": "ipython3",
   "version": "3.8.4"
  }
 },
 "nbformat": 4,
 "nbformat_minor": 4
}
