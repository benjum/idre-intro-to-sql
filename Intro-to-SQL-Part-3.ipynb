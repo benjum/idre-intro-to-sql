{
 "cells": [
  {
   "cell_type": "markdown",
   "metadata": {},
   "source": [
    "# SQL + Python \n",
    "## (and Pandas, a Python package for data manipulation and analysis)\n",
    "This notebook is taken in part from a [Dataquest intro](https://www.dataquest.io/blog/sql-basics/)."
   ]
  },
  {
   "cell_type": "code",
   "execution_count": null,
   "metadata": {},
   "outputs": [],
   "source": [
    "# Grab the database\n",
    "!wget 'https://dataquest.io/blog/large_files/hubway.db'"
   ]
  },
  {
   "cell_type": "code",
   "execution_count": null,
   "metadata": {},
   "outputs": [],
   "source": [
    "import sqlite3\n",
    "import pandas as pd\n",
    "db = sqlite3.connect('hubway.db')\n",
    "def run_query(query):\n",
    "    return pd.read_sql_query(query,db)"
   ]
  },
  {
   "cell_type": "code",
   "execution_count": null,
   "metadata": {},
   "outputs": [],
   "source": [
    "run_query('SELECT name FROM sqlite_master;')"
   ]
  },
  {
   "cell_type": "markdown",
   "metadata": {},
   "source": [
    "The `trips` table:\n",
    "* id — A unique integer that serves as a reference for each trip\n",
    "* duration — The duration of the trip, measured in seconds\n",
    "* start_date — The date and time the trip began\n",
    "* start_station — An integer that corresponds to the id column in the stations table for the station the trip started at\n",
    "* end_date — The date and time the trip ended\n",
    "* end_station — The 'id' of the station the trip ended at\n",
    "* bike_number — Hubway's unique identifier for the bike used on the trip\n",
    "* sub_type — The subscription type of the user. \"Registered\" for users with a membership, \"Casual\" for users without a membership\n",
    "* zip_code — The zip code of the user (only available for registered members)\n",
    "* birth_date — The birth year of the user (only available for registered members)\n",
    "* gender — The gender of the user (only available for registered members)\n",
    "\n",
    "The `stations` table:\n",
    "* id — A unique identifier for each station (corresponds to the start_station and end_station columns in the trips table)\n",
    "* station — The station name\n",
    "* municipality — The municipality that the station is in (Boston, Brookline, Cambridge or Somerville)\n",
    "* lat — The latitude of the station\n",
    "* lng — The longitude of the station"
   ]
  },
  {
   "cell_type": "code",
   "execution_count": null,
   "metadata": {},
   "outputs": [],
   "source": [
    "run_query('SELECT * FROM trips LIMIT 5;')"
   ]
  },
  {
   "cell_type": "code",
   "execution_count": null,
   "metadata": {},
   "outputs": [],
   "source": [
    "run_query('SELECT * FROM stations LIMIT 5;')"
   ]
  },
  {
   "cell_type": "markdown",
   "metadata": {},
   "source": [
    "Let's say that we want to answer the following questions:\n",
    "* What was the duration of the longest trip?\n",
    "* How many trips were taken by 'registered' users?\n",
    "* What was the average trip duration?\n",
    "* Do registered or casual users take longer trips?\n",
    "* Which bike was used for the most trips?\n",
    "* What is the average duration of trips by users over the age of 30?"
   ]
  },
  {
   "cell_type": "code",
   "execution_count": null,
   "metadata": {},
   "outputs": [],
   "source": [
    "query = 'SELECT * FROM trips LIMIT 5;'\n",
    "run_query(query)"
   ]
  },
  {
   "cell_type": "code",
   "execution_count": null,
   "metadata": {},
   "outputs": [],
   "source": [
    "query = 'SELECT duration, start_date FROM trips LIMIT 5'\n",
    "run_query(query)"
   ]
  },
  {
   "cell_type": "markdown",
   "metadata": {},
   "source": [
    "### What was the duration of the longest trip?"
   ]
  },
  {
   "cell_type": "code",
   "execution_count": null,
   "metadata": {},
   "outputs": [],
   "source": [
    "query = '''\n",
    "SELECT duration FROM trips\n",
    "ORDER BY duration DESC\n",
    "LIMIT 1;\n",
    "'''\n",
    "run_query(query)"
   ]
  },
  {
   "cell_type": "code",
   "execution_count": null,
   "metadata": {},
   "outputs": [],
   "source": [
    "query = '''\n",
    "SELECT duration\n",
    "FROM trips\n",
    "ORDER BY duration DESC\n",
    "LIMIT 10\n",
    "'''\n",
    "run_query(query)"
   ]
  },
  {
   "cell_type": "code",
   "execution_count": null,
   "metadata": {},
   "outputs": [],
   "source": [
    "query = '''\n",
    "SELECT * FROM trips\n",
    "WHERE duration > 9990;\n",
    "'''\n",
    "run_query(query)"
   ]
  },
  {
   "cell_type": "code",
   "execution_count": null,
   "metadata": {},
   "outputs": [],
   "source": [
    "query = '''\n",
    "SELECT * FROM trips\n",
    "WHERE (duration >= 9990) AND (sub_type = \"Registered\")\n",
    "ORDER BY duration DESC;\n",
    "'''\n",
    "run_query(query)"
   ]
  },
  {
   "cell_type": "markdown",
   "metadata": {},
   "source": [
    "### How many trips were taken by 'registered' users?"
   ]
  },
  {
   "cell_type": "code",
   "execution_count": null,
   "metadata": {},
   "outputs": [],
   "source": [
    "query = '''\n",
    "SELECT COUNT(*)\n",
    "FROM trips\n",
    "WHERE sub_type = \"Registered\";\n",
    "'''\n",
    "run_query(query)"
   ]
  },
  {
   "cell_type": "code",
   "execution_count": null,
   "metadata": {},
   "outputs": [],
   "source": [
    "query = '''\n",
    "SELECT COUNT(*) AS \"Total Trips by Registered Users\"\n",
    "FROM trips\n",
    "WHERE sub_type = \"Registered\";\n",
    "'''\n",
    "run_query(query)"
   ]
  },
  {
   "cell_type": "markdown",
   "metadata": {},
   "source": [
    "### What was the average trip duration?"
   ]
  },
  {
   "cell_type": "code",
   "execution_count": null,
   "metadata": {},
   "outputs": [],
   "source": [
    "query = '''\n",
    "SELECT AVG(duration) AS \"Average Duration\"\n",
    "FROM trips;\n",
    "'''\n",
    "run_query(query)"
   ]
  },
  {
   "cell_type": "markdown",
   "metadata": {},
   "source": [
    "### Do registered or casual users take longer trips?"
   ]
  },
  {
   "cell_type": "code",
   "execution_count": null,
   "metadata": {},
   "outputs": [],
   "source": [
    "query = '''\n",
    "SELECT sub_type, AVG(duration) AS \"Average Duration\"\n",
    "FROM trips\n",
    "GROUP BY sub_type;\n",
    "'''\n",
    "run_query(query)"
   ]
  },
  {
   "cell_type": "markdown",
   "metadata": {},
   "source": [
    "### Which bike was used for the most trips?"
   ]
  },
  {
   "cell_type": "code",
   "execution_count": null,
   "metadata": {},
   "outputs": [],
   "source": [
    "query = '''\n",
    "SELECT bike_number as \"Bike Number\", COUNT(*) AS \"Number of Trips\"\n",
    "FROM trips\n",
    "GROUP BY bike_number\n",
    "ORDER BY COUNT(*) DESC\n",
    "LIMIT 1;\n",
    "'''\n",
    "run_query(query)"
   ]
  },
  {
   "cell_type": "markdown",
   "metadata": {},
   "source": [
    "### What is the average duration of trips by users over the age of 30?"
   ]
  },
  {
   "cell_type": "code",
   "execution_count": null,
   "metadata": {},
   "outputs": [],
   "source": [
    "query = '''\n",
    "SELECT AVG(duration) FROM trips\n",
    "WHERE (2020 - birth_date) > 30;\n",
    "'''\n",
    "run_query(query)"
   ]
  },
  {
   "cell_type": "code",
   "execution_count": null,
   "metadata": {},
   "outputs": [],
   "source": [
    "query = '''\n",
    "SELECT * FROM stations\n",
    "LIMIT 5;\n",
    "'''\n",
    "run_query(query)"
   ]
  },
  {
   "cell_type": "markdown",
   "metadata": {},
   "source": [
    "### Illustrate JOIN to get stations with the most round trips"
   ]
  },
  {
   "cell_type": "code",
   "execution_count": null,
   "metadata": {},
   "outputs": [],
   "source": [
    "query = '''\n",
    "SELECT stations.station AS \"Station\", COUNT(*) AS \"Count\"\n",
    "FROM trips \n",
    "INNER JOIN stations\n",
    "ON trips.start_station = stations.id\n",
    "GROUP BY stations.station\n",
    "ORDER BY COUNT(*) DESC\n",
    "LIMIT 5;\n",
    "'''\n",
    "run_query(query)"
   ]
  },
  {
   "cell_type": "code",
   "execution_count": null,
   "metadata": {},
   "outputs": [],
   "source": [
    "query = '''\n",
    "SELECT stations.station AS \"Station\", COUNT(*) AS \"Count\"\n",
    "FROM trips \n",
    "INNER JOIN stations\n",
    "ON trips.start_station = stations.id\n",
    "WHERE trips.start_station = trips.end_station\n",
    "GROUP BY stations.station\n",
    "ORDER BY COUNT(*) DESC\n",
    "LIMIT 5;\n",
    "'''\n",
    "run_query(query)"
   ]
  },
  {
   "cell_type": "code",
   "execution_count": null,
   "metadata": {},
   "outputs": [],
   "source": [
    "query = '''\n",
    "SELECT COUNT(trips.id) AS \"Count\"\n",
    "FROM trips \n",
    "INNER JOIN stations AS start\n",
    "ON trips.start_station = start.id\n",
    "INNER JOIN stations AS end\n",
    "ON trips.end_station = end.id\n",
    "WHERE start.municipality <> end.municipality;\n",
    "'''\n",
    "run_query(query)"
   ]
  },
  {
   "cell_type": "markdown",
   "metadata": {},
   "source": [
    "# Now to tackle some plotting\n",
    "\n",
    "* How many trips incurred additional fees (lasted longer than 30 minutes)?\n",
    "* Which bike was used for the longest total time?\n",
    "* Did registered or casual users take more round trips?\n",
    "* Which municipality had the longest average duration?"
   ]
  },
  {
   "cell_type": "code",
   "execution_count": null,
   "metadata": {},
   "outputs": [],
   "source": [
    "df = pd.read_sql_query(\"select * from trips;\", db)\n",
    "df"
   ]
  },
  {
   "cell_type": "code",
   "execution_count": null,
   "metadata": {},
   "outputs": [],
   "source": [
    "import sqlite3\n",
    "import pandas as pd\n",
    "db = sqlite3.connect('hubway.db')\n",
    "%matplotlib inline"
   ]
  },
  {
   "cell_type": "code",
   "execution_count": null,
   "metadata": {},
   "outputs": [],
   "source": [
    "pd.read_sql_query('''\n",
    "SELECT COUNT(*)\n",
    "FROM trips;\n",
    "''', db)"
   ]
  },
  {
   "cell_type": "code",
   "execution_count": null,
   "metadata": {},
   "outputs": [],
   "source": [
    "df = pd.read_sql_query('''\n",
    "SELECT stations.station AS \"Station\", COUNT(*) AS \"Count\"\n",
    "FROM trips \n",
    "INNER JOIN stations\n",
    "ON trips.start_station = stations.id\n",
    "WHERE trips.start_station = trips.end_station\n",
    "GROUP BY stations.station\n",
    "ORDER BY COUNT(*) DESC;\n",
    "''', db)"
   ]
  },
  {
   "cell_type": "code",
   "execution_count": null,
   "metadata": {},
   "outputs": [],
   "source": [
    "df"
   ]
  },
  {
   "cell_type": "code",
   "execution_count": null,
   "metadata": {},
   "outputs": [],
   "source": [
    "df[:20].plot.barh(x='Station',y='Count')"
   ]
  },
  {
   "cell_type": "code",
   "execution_count": null,
   "metadata": {},
   "outputs": [],
   "source": [
    "df = pd.read_sql_query('''\n",
    "SELECT duration\n",
    "FROM trips;\n",
    "''', db)"
   ]
  },
  {
   "cell_type": "code",
   "execution_count": null,
   "metadata": {},
   "outputs": [],
   "source": [
    "df.hist(bins=100)"
   ]
  },
  {
   "cell_type": "code",
   "execution_count": null,
   "metadata": {},
   "outputs": [],
   "source": [
    "pd.read_sql_query('''\n",
    "SELECT count(*)\n",
    "FROM trips\n",
    "WHERE duration > 30*60;\n",
    "''', db)"
   ]
  },
  {
   "cell_type": "code",
   "execution_count": null,
   "metadata": {},
   "outputs": [],
   "source": [
    "pd.read_sql_query('''\n",
    "SELECT count(*)\n",
    "FROM trips\n",
    "WHERE duration < 30*60;\n",
    "''', db)"
   ]
  },
  {
   "cell_type": "code",
   "execution_count": null,
   "metadata": {},
   "outputs": [],
   "source": [
    "df = pd.read_sql_query('''\n",
    "SELECT duration\n",
    "FROM trips\n",
    "WHERE duration < 600;\n",
    "''', db)\n",
    "df.hist(bins=50)"
   ]
  },
  {
   "cell_type": "code",
   "execution_count": null,
   "metadata": {},
   "outputs": [],
   "source": [
    "df = pd.read_sql_query('''\n",
    "SELECT duration\n",
    "FROM trips\n",
    "WHERE duration > 400 and duration < 500;\n",
    "''', db)\n",
    "df.hist(bins=50)"
   ]
  },
  {
   "cell_type": "code",
   "execution_count": null,
   "metadata": {},
   "outputs": [],
   "source": [
    "pd.read_sql_query('''\n",
    "SELECT count(*)\n",
    "FROM trips\n",
    "WHERE duration = 480.0;\n",
    "''', db)"
   ]
  },
  {
   "cell_type": "code",
   "execution_count": null,
   "metadata": {},
   "outputs": [],
   "source": [
    "df = pd.read_sql_query('''\n",
    "SELECT duration\n",
    "FROM trips\n",
    "WHERE duration % 60 != 0 and duration < 1000;\n",
    "''', db)\n",
    "df.hist(bins=50)\n",
    "df = pd.read_sql_query('''\n",
    "SELECT duration\n",
    "FROM trips\n",
    "WHERE duration < 1000;\n",
    "''', db)\n",
    "df.hist(bins=50)"
   ]
  },
  {
   "cell_type": "code",
   "execution_count": null,
   "metadata": {},
   "outputs": [],
   "source": [
    "df = pd.read_sql_query('''\n",
    "SELECT bike_number as \"Bike Number\", COUNT(*) AS \"Number of Trips\", SUM(duration)/3600 as \"Total Ridden Time (Hrs)\"\n",
    "FROM trips\n",
    "GROUP BY bike_number\n",
    "ORDER BY COUNT(*) DESC\n",
    "''', db)\n",
    "df"
   ]
  },
  {
   "cell_type": "code",
   "execution_count": null,
   "metadata": {},
   "outputs": [],
   "source": [
    "df = pd.read_sql_query('''\n",
    "SELECT bike_number as \"Bike Number\", COUNT(*) AS \"Number of Trips\", SUM(duration)/3600 as \"Total Ridden Time (Hrs)\"\n",
    "FROM trips\n",
    "GROUP BY bike_number\n",
    "ORDER BY COUNT(*) DESC\n",
    "''', db)\n",
    "df[:250].plot.bar(x='Bike Number',figsize=(12,5))"
   ]
  },
  {
   "cell_type": "code",
   "execution_count": null,
   "metadata": {},
   "outputs": [],
   "source": [
    "df[160:260].plot.bar(x='Bike Number',figsize=(12,5))"
   ]
  },
  {
   "cell_type": "code",
   "execution_count": null,
   "metadata": {},
   "outputs": [],
   "source": [
    "df = pd.read_sql_query('''\n",
    "SELECT stations.station AS \"Station\", trips.sub_type , COUNT(*) AS \"Count\"\n",
    "FROM trips \n",
    "INNER JOIN stations\n",
    "ON trips.start_station = stations.id\n",
    "WHERE trips.start_station = trips.end_station\n",
    "GROUP BY stations.station, trips.sub_type\n",
    "ORDER BY COUNT(*) DESC;\n",
    "''', db)"
   ]
  },
  {
   "cell_type": "code",
   "execution_count": null,
   "metadata": {},
   "outputs": [],
   "source": [
    "df"
   ]
  },
  {
   "cell_type": "code",
   "execution_count": null,
   "metadata": {},
   "outputs": [],
   "source": [
    "df[df['sub_type']=='Casual'].plot.hist(bins=10)\n",
    "df[df['sub_type']=='Registered'].plot.hist(bins=10)"
   ]
  },
  {
   "cell_type": "code",
   "execution_count": null,
   "metadata": {},
   "outputs": [],
   "source": [
    "df2 = df.set_index(['Station','sub_type']).Count"
   ]
  },
  {
   "cell_type": "code",
   "execution_count": null,
   "metadata": {},
   "outputs": [],
   "source": [
    "df2"
   ]
  },
  {
   "cell_type": "code",
   "execution_count": null,
   "metadata": {},
   "outputs": [],
   "source": [
    "df2[:50].unstack().plot(kind='barh',figsize=(12,8))"
   ]
  },
  {
   "cell_type": "code",
   "execution_count": null,
   "metadata": {},
   "outputs": [],
   "source": [
    "df = pd.read_sql_query('''\n",
    "SELECT start.municipality AS \"Municipality\", AVG(trips.duration) AS \"Duration\"\n",
    "FROM trips \n",
    "INNER JOIN stations AS start\n",
    "ON trips.start_station = start.id\n",
    "INNER JOIN stations AS end\n",
    "ON trips.end_station = end.id\n",
    "WHERE start.municipality = end.municipality\n",
    "GROUP BY start.municipality\n",
    "ORDER BY AVG(trips.duration) DESC;\n",
    "''', db)"
   ]
  },
  {
   "cell_type": "code",
   "execution_count": null,
   "metadata": {},
   "outputs": [],
   "source": [
    "df"
   ]
  },
  {
   "cell_type": "code",
   "execution_count": null,
   "metadata": {},
   "outputs": [],
   "source": [
    "df = pd.read_sql_query('''\n",
    "SELECT *\n",
    "FROM stations;\n",
    "''', db)\n",
    "df"
   ]
  },
  {
   "cell_type": "code",
   "execution_count": null,
   "metadata": {},
   "outputs": [],
   "source": []
  }
 ],
 "metadata": {
  "kernelspec": {
   "display_name": "Python 3",
   "language": "python",
   "name": "python3"
  },
  "language_info": {
   "codemirror_mode": {
    "name": "ipython",
    "version": 3
   },
   "file_extension": ".py",
   "mimetype": "text/x-python",
   "name": "python",
   "nbconvert_exporter": "python",
   "pygments_lexer": "ipython3",
   "version": "3.8.4"
  }
 },
 "nbformat": 4,
 "nbformat_minor": 4
}
